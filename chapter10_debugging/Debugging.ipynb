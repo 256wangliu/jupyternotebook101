{
 "cells": [
  {
   "cell_type": "code",
   "execution_count": null,
   "metadata": {},
   "outputs": [],
   "source": [
    "def bad_function(var):\n",
    "    return var + 0\n",
    "\n",
    "bad_function(\"Mike\")"
   ]
  },
  {
   "cell_type": "markdown",
   "metadata": {},
   "source": [
    "# NOTE: You may need to restart the kernel between running the following cells as the debugger sometimes prevents subsequent cells from running"
   ]
  },
  {
   "cell_type": "code",
   "execution_count": null,
   "metadata": {},
   "outputs": [],
   "source": [
    "def bad_function(var):\n",
    "    import pdb\n",
    "    pdb.set_trace()\n",
    "    return var + 0\n",
    "\n",
    "bad_function(\"Mike\")"
   ]
  },
  {
   "cell_type": "code",
   "execution_count": null,
   "metadata": {},
   "outputs": [],
   "source": [
    "# This code only works correctly in Python 3.7\n",
    "\n",
    "def bad_function(var):\n",
    "    breakpoint()\n",
    "    return var + 0\n",
    "\n",
    "bad_function(\"Mike\")"
   ]
  },
  {
   "cell_type": "code",
   "execution_count": null,
   "metadata": {},
   "outputs": [],
   "source": [
    "from IPython.core.debugger import set_trace\n",
    "\n",
    "def bad_function(var):\n",
    "    set_trace()\n",
    "    return var + 0\n",
    "\n",
    "bad_function(\"Mike\")"
   ]
  },
  {
   "cell_type": "code",
   "execution_count": null,
   "metadata": {},
   "outputs": [],
   "source": [
    "%pdb\n",
    "\n",
    "def bad_function(var):\n",
    "    return var + 0\n",
    "\n",
    "bad_function(\"Mike\")\n"
   ]
  },
  {
   "cell_type": "code",
   "execution_count": null,
   "metadata": {},
   "outputs": [],
   "source": [
    "%%debug\n",
    "\n",
    "def bad_function(var):\n",
    "    return var + 0\n",
    "\n",
    "bad_function(\"Mike\")"
   ]
  }
 ],
 "metadata": {
  "kernelspec": {
   "display_name": "Python 3",
   "language": "python",
   "name": "python3"
  },
  "language_info": {
   "codemirror_mode": {
    "name": "ipython",
    "version": 2
   },
   "file_extension": ".py",
   "mimetype": "text/x-python",
   "name": "python",
   "nbconvert_exporter": "python",
   "pygments_lexer": "ipython2",
   "version": "2.7.15rc1"
  }
 },
 "nbformat": 4,
 "nbformat_minor": 2
}
